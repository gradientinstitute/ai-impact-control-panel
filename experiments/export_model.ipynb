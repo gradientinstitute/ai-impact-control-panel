{
 "cells": [
  {
   "cell_type": "code",
   "execution_count": null,
   "id": "3397b45f",
   "metadata": {},
   "outputs": [],
   "source": [
    "#from deva.fileio import load_scenario\n",
    "# now using a synthetic scenario\n",
    "import ipywidgets as widgets\n",
    "from IPython.display import HTML, display\n",
    "import numpy as np\n",
    "import pandas as pd\n",
    "from itertools import permutations, combinations\n",
    "import os\n",
    "import toml"
   ]
  },
  {
   "cell_type": "code",
   "execution_count": null,
   "id": "563050ac",
   "metadata": {},
   "outputs": [],
   "source": [
    "# Construct a toy problem\n",
    "attributes = [\"Wmin\", \"Xmin\", \"Ymax\", \"Zmin\"]\n",
    "# Now test with a -1 to make sure \"higherisbetter\" applies\n",
    "sign = np.array([1, 1, 1, 1], dtype=int)\n",
    "vals = [1, 2, 3, 4]\n",
    "\n",
    "scores = np.array(list(permutations(vals)))\n",
    "\n",
    "# Modify column 3 so scores is \"higherisbetter\"\n",
    "sign[2] = -1\n",
    "scores[:, 2] = 5 - scores[:, 2]\n",
    "\n",
    "#scores.append((3,3,3,3))  # neutrino\n",
    "scores = pd.DataFrame(scores)\n",
    "scores.columns = attributes\n",
    "scores"
   ]
  },
  {
   "cell_type": "code",
   "execution_count": null,
   "id": "37c4230b",
   "metadata": {},
   "outputs": [],
   "source": [
    "# Note - I made the metadata here manually by copying \"jobs\" for reference ...\n",
    "scenario_name = \"synthetic\"\n",
    "\n",
    "# Note - you may need to adjust the path so this points to the scenarios folder correctly\n",
    "assert os.path.exists(\"../scenarios\"), \"fix your scenario path\"\n",
    "path = f\"../scenarios/{scenario_name}/models\"\n",
    "\n",
    "for i in range(table.shape[0]):\n",
    "    name = \"system_\" + chr(65+i)\n",
    "    attribs = dict(zip(attributes, scores.values[i]))\n",
    "    attribs = {k:float(v) for k, v in attribs.items()}\n",
    "    with open(f\"{path}/metrics_{name}.toml\", 'w') as f: \n",
    "        toml.dump(attribs, f)\n",
    "    \n",
    "    with open(f\"{path}/params_{name}.toml\", 'w') as f: \n",
    "        toml.dump({\"index\": i}, f)\n",
    "        \n",
    "    \n",
    "        "
   ]
  },
  {
   "cell_type": "code",
   "execution_count": null,
   "id": "406460ba",
   "metadata": {},
   "outputs": [],
   "source": []
  }
 ],
 "metadata": {
  "kernelspec": {
   "display_name": "Python 3 (ipykernel)",
   "language": "python",
   "name": "python3"
  },
  "language_info": {
   "codemirror_mode": {
    "name": "ipython",
    "version": 3
   },
   "file_extension": ".py",
   "mimetype": "text/x-python",
   "name": "python",
   "nbconvert_exporter": "python",
   "pygments_lexer": "ipython3",
   "version": "3.8.12"
  }
 },
 "nbformat": 4,
 "nbformat_minor": 5
}
